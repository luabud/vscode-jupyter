{
    "cells": [
        {
            "cell_type": "markdown",
            "metadata": {},
            "source": [
                "# Prerequisites\n",
                "\n",
                "### pip install ipyaladin"
            ]
        },
        {
            "cell_type": "code",
            "execution_count": 1,
            "metadata": {
                "scrolled": true
            },
            "outputs": [
                {
                    "data": {
                        "application/vnd.jupyter.widget-view+json": {
                            "model_id": "bab04fcb5dd24039b1dd418b88e8b50a",
                            "version_major": 2,
                            "version_minor": 0
                        },
                        "text/plain": [
                            "Aladin(fov=1.0, options=['allow_full_zoomout', 'coo_frame', 'fov', 'full_screen', 'log', 'overlay_survey', 'ov…"
                        ]
                    },
                    "metadata": {},
                    "output_type": "display_data"
                }
            ],
            "source": [
                "import ipyaladin\n",
                "aladin = ipyaladin.Aladin(target='messier 51', fov=1)\n",
                "aladin"
            ]
        }
    ],
    "metadata": {
        "celltoolbar": "Attachments",
        "file_extension": ".py",
        "interpreter": {
            "hash": "785edfce71b7b34600eacc1c40d1f7960d8cad3527bf2998465efd5555859783"
        },
        "kernelspec": {
            "display_name": "Python 3.8.12 ('.venvWidgets': venv)",
            "language": "python",
            "name": "python3"
        },
        "language_info": {
            "codemirror_mode": {
                "name": "ipython",
                "version": 3
            },
            "file_extension": ".py",
            "mimetype": "text/x-python",
            "name": "python",
            "nbconvert_exporter": "python",
            "pygments_lexer": "ipython3",
            "version": "3.8.12"
        },
        "mimetype": "text/x-python",
        "name": "python",
        "npconvert_exporter": "python",
        "pygments_lexer": "ipython3",
        "toc": {
            "base_numbering": 1,
            "nav_menu": {},
            "number_sections": false,
            "sideBar": false,
            "skip_h1_title": false,
            "title_cell": "Table of Contents",
            "title_sidebar": "Contents",
            "toc_cell": false,
            "toc_position": {},
            "toc_section_display": false,
            "toc_window_display": false
        },
        "version": 3
    },
    "nbformat": 4,
    "nbformat_minor": 2
}
